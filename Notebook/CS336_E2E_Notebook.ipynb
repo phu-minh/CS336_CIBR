{
  "cells": [
    {
      "cell_type": "markdown",
      "metadata": {
        "id": "hH5EbDeuxW3c"
      },
      "source": [
        "##**Setting folder, dataset**"
      ]
    },
    {
      "cell_type": "code",
      "execution_count": 2,
      "metadata": {
        "colab": {
          "base_uri": "https://localhost:8080/"
        },
        "id": "bZQBSEu0e_pT",
        "outputId": "53a9638d-54d6-42d7-8097-32d55c1bf7e7"
      },
      "outputs": [
        {
          "name": "stdout",
          "output_type": "stream",
          "text": [
            "Cloning into 'image_search_engine'...\n",
            "remote: Enumerating objects: 129, done.\u001b[K\n",
            "remote: Counting objects: 100% (129/129), done.\u001b[K\n",
            "remote: Compressing objects: 100% (113/113), done.\u001b[K\n",
            "remote: Total 129 (delta 12), reused 127 (delta 10), pack-reused 0\u001b[K\n",
            "Receiving objects: 100% (129/129), 24.05 MiB | 24.08 MiB/s, done.\n",
            "Resolving deltas: 100% (12/12), done.\n"
          ]
        }
      ],
      "source": [
        "#cloning the code\n",
        "!git clone https://github.com/phu-minh/image_search_engine.git"
      ]
    },
    {
      "cell_type": "code",
      "execution_count": 3,
      "metadata": {
        "colab": {
          "base_uri": "https://localhost:8080/"
        },
        "id": "2T_XYXqkfAPA",
        "outputId": "da466d44-8aed-4ca1-ddee-b40ac851feeb"
      },
      "outputs": [
        {
          "name": "stdout",
          "output_type": "stream",
          "text": [
            "/content/image_search_engine\n"
          ]
        }
      ],
      "source": [
        "#changing dir\n",
        "%cd image_search_engine/CIBR"
      ]
    },
    {
      "cell_type": "code",
      "execution_count": 4,
      "metadata": {
        "colab": {
          "base_uri": "https://localhost:8080/"
        },
        "id": "AhyyuhnrxVn6",
        "outputId": "d74020d8-ebda-4a55-8b96-d32ba5a5eaa0"
      },
      "outputs": [
        {
          "name": "stdout",
          "output_type": "stream",
          "text": [
            "Downloading...\n",
            "From: https://drive.google.com/uc?id=158PSJ9sBzYM-FPVlnz6-6axf9BCfKnDB\n",
            "To: /content/image_search_engine/paris_1.tgz\n",
            "100% 1.27G/1.27G [00:05<00:00, 213MB/s]\n",
            "Downloading...\n",
            "From: https://drive.google.com/uc?id=1KuYcu-AvBEOJ4uymjcdLpwE-1WUQiiF0\n",
            "To: /content/image_search_engine/paris_2.tgz\n",
            "100% 1.34G/1.34G [00:25<00:00, 52.9MB/s]\n"
          ]
        }
      ],
      "source": [
        "#download 2 part of dataset\n",
        "!gdown --id 158PSJ9sBzYM-FPVlnz6-6axf9BCfKnDB\n",
        "!gdown --id 1KuYcu-AvBEOJ4uymjcdLpwE-1WUQiiF0"
      ]
    },
    {
      "cell_type": "code",
      "execution_count": 5,
      "metadata": {
        "id": "ekU3PyRVx7wo"
      },
      "outputs": [],
      "source": [
        "!tar -zxf paris_1.tgz\n",
        "!tar -zxf paris_2.tgz"
      ]
    },
    {
      "cell_type": "code",
      "execution_count": 6,
      "metadata": {
        "id": "nAq8GIzR1ByC"
      },
      "outputs": [],
      "source": [
        "!rm paris_1.tgz\n",
        "!rm paris_2.tgz"
      ]
    },
    {
      "cell_type": "markdown",
      "metadata": {
        "id": "B0oxRVVM0Gm1"
      },
      "source": [
        "###Get model files"
      ]
    },
    {
      "cell_type": "code",
      "execution_count": 7,
      "metadata": {
        "colab": {
          "base_uri": "https://localhost:8080/"
        },
        "id": "cD-Y9oZV0Jp5",
        "outputId": "e41e3e85-cbb3-4993-8c47-6a11a0ed6d20"
      },
      "outputs": [
        {
          "name": "stdout",
          "output_type": "stream",
          "text": [
            "Downloading...\n",
            "From: https://drive.google.com/uc?id=1SdEWOAQqEF6_oigkjlNORhzkJh7dG8rT\n",
            "To: /content/image_search_engine/vocab.cpickle\n",
            "\r  0% 0.00/3.07M [00:00<?, ?B/s]\r100% 3.07M/3.07M [00:00<00:00, 197MB/s]\n"
          ]
        }
      ],
      "source": [
        "#get Vocab.pck\n",
        "!gdown --id 1SdEWOAQqEF6_oigkjlNORhzkJh7dG8rT"
      ]
    },
    {
      "cell_type": "code",
      "execution_count": 8,
      "metadata": {
        "colab": {
          "base_uri": "https://localhost:8080/"
        },
        "id": "EjHevMZ_0d4d",
        "outputId": "5cf961dd-0f94-4969-97f6-56531a9cb402"
      },
      "outputs": [
        {
          "name": "stdout",
          "output_type": "stream",
          "text": [
            "Downloading...\n",
            "From: https://drive.google.com/uc?id=1pVBSVtM7S6Omm9GIXXp9VcSrVkpYwssQ\n",
            "To: /content/image_search_engine/idf.cpickle\n",
            "\r  0% 0.00/24.2k [00:00<?, ?B/s]\r100% 24.2k/24.2k [00:00<00:00, 32.1MB/s]\n"
          ]
        }
      ],
      "source": [
        "#get idf.pck\n",
        "!gdown --id 1pVBSVtM7S6Omm9GIXXp9VcSrVkpYwssQ"
      ]
    },
    {
      "cell_type": "code",
      "execution_count": 9,
      "metadata": {
        "colab": {
          "base_uri": "https://localhost:8080/"
        },
        "id": "fXNcRW-B0o9b",
        "outputId": "99421cca-5e1a-46e8-8cd1-3e665c39fc3f"
      },
      "outputs": [
        {
          "name": "stdout",
          "output_type": "stream",
          "text": [
            "Access denied with the following error:\n",
            "\n",
            " \tToo many users have viewed or downloaded this file recently. Please\n",
            "\ttry accessing the file again later. If the file you are trying to\n",
            "\taccess is particularly large or is shared with many people, it may\n",
            "\ttake up to 24 hours to be able to view or download the file. If you\n",
            "\tstill can't access a file after 24 hours, contact your domain\n",
            "\tadministrator. \n",
            "\n",
            "You may still be able to access the file from the browser:\n",
            "\n",
            "\t https://drive.google.com/uc?id=1YIyjfC-e5mCEtsNovTxEd7hNicNOUMKb \n",
            "\n"
          ]
        }
      ],
      "source": [
        "#get features \n",
        "!gdown --id 1YIyjfC-e5mCEtsNovTxEd7hNicNOUMKb"
      ]
    },
    {
      "cell_type": "code",
      "execution_count": 10,
      "metadata": {
        "colab": {
          "base_uri": "https://localhost:8080/"
        },
        "id": "UoFOkLv207vY",
        "outputId": "4e285b18-f97e-4c89-a8af-6ac7fc773154"
      },
      "outputs": [
        {
          "name": "stdout",
          "output_type": "stream",
          "text": [
            "Downloading...\n",
            "From: https://drive.google.com/uc?id=1XWZu9ZsF0uVKR9z_o0l5sooSXj1kr00C\n",
            "To: /content/image_search_engine/bovw.hdf5\n",
            "100% 154M/154M [00:00<00:00, 198MB/s]\n"
          ]
        }
      ],
      "source": [
        "#get bowv file\n",
        "!gdown --id 1XWZu9ZsF0uVKR9z_o0l5sooSXj1kr00C"
      ]
    },
    {
      "cell_type": "code",
      "execution_count": 11,
      "metadata": {
        "colab": {
          "base_uri": "https://localhost:8080/"
        },
        "id": "_kOMX-nMRSzF",
        "outputId": "c85ffc84-bf15-4cb5-bb5d-e22df6e1848c"
      },
      "outputs": [
        {
          "name": "stdout",
          "output_type": "stream",
          "text": [
            "mv: cannot stat 'features.hdf5': No such file or directory\n"
          ]
        }
      ],
      "source": [
        "!mv bovw.hdf5 output/\n",
        "!mv features.hdf5 output/\n",
        "!mv idf.cpickle output/\n",
        "!mv vocab.cpickle output/"
      ]
    },
    {
      "cell_type": "code",
      "execution_count": 12,
      "metadata": {
        "colab": {
          "base_uri": "https://localhost:8080/"
        },
        "id": "8TgveoEDwKwi",
        "outputId": "bfe5b67b-ab5d-4c7c-8489-70c25fc78f25"
      },
      "outputs": [
        {
          "name": "stdout",
          "output_type": "stream",
          "text": [
            "build_redis_index.py\t    find_elbow.py\t   results\n",
            "cluster_features.py\t    image_search_pipeline  search.py\n",
            "compute_ap\t\t    index_features.py\t   search_spatial_verify.py\n",
            "compute_ap.cpp\t\t    output\t\t   split_data.py\n",
            "dump.rdb\t\t    paris\t\t   start_redis_server.py\n",
            "evaluate.py\t\t    PathConfig.py\t   test_2.py\n",
            "evaluate_spatial_verify.py  __pycache__\t\t   test.py\n",
            "extract_bovw.py\t\t    README.md\t\t   visualize_centers.py\n"
          ]
        }
      ],
      "source": [
        "!ls"
      ]
    },
    {
      "cell_type": "markdown",
      "metadata": {
        "id": "g14HgQsrxZ05"
      },
      "source": [
        "##**Setting enviroment**"
      ]
    },
    {
      "cell_type": "code",
      "execution_count": 13,
      "metadata": {
        "colab": {
          "base_uri": "https://localhost:8080/"
        },
        "id": "-jU1dIIFkIjq",
        "outputId": "c8202b4e-b3c2-4078-be62-c61570c26c2a"
      },
      "outputs": [
        {
          "name": "stdout",
          "output_type": "stream",
          "text": [
            "Collecting opencv-python==4.4.0.46\n",
            "  Downloading opencv_python-4.4.0.46-cp37-cp37m-manylinux2014_x86_64.whl (49.5 MB)\n",
            "\u001b[K     |████████████████████████████████| 49.5 MB 1.5 MB/s \n",
            "\u001b[?25hRequirement already satisfied: numpy>=1.14.5 in /usr/local/lib/python3.7/dist-packages (from opencv-python==4.4.0.46) (1.19.5)\n",
            "Installing collected packages: opencv-python\n",
            "  Attempting uninstall: opencv-python\n",
            "    Found existing installation: opencv-python 4.1.2.30\n",
            "    Uninstalling opencv-python-4.1.2.30:\n",
            "      Successfully uninstalled opencv-python-4.1.2.30\n",
            "\u001b[31mERROR: pip's dependency resolver does not currently take into account all the packages that are installed. This behaviour is the source of the following dependency conflicts.\n",
            "albumentations 0.1.12 requires imgaug<0.2.7,>=0.2.5, but you have imgaug 0.2.9 which is incompatible.\u001b[0m\n",
            "Successfully installed opencv-python-4.4.0.46\n"
          ]
        }
      ],
      "source": [
        "#installing opencv\n",
        "!pip install opencv-python==4.4.0.46"
      ]
    },
    {
      "cell_type": "code",
      "execution_count": 14,
      "metadata": {
        "colab": {
          "base_uri": "https://localhost:8080/"
        },
        "id": "S-H4mrYxJK9s",
        "outputId": "bddcde0d-eea0-491c-b114-50f4ec456859"
      },
      "outputs": [
        {
          "name": "stdout",
          "output_type": "stream",
          "text": [
            "Collecting opencv-contrib-python==4.4.0.46\n",
            "  Downloading opencv_contrib_python-4.4.0.46-cp37-cp37m-manylinux2014_x86_64.whl (55.7 MB)\n",
            "\u001b[K     |████████████████████████████████| 55.7 MB 1.2 MB/s \n",
            "\u001b[?25hRequirement already satisfied: numpy>=1.14.5 in /usr/local/lib/python3.7/dist-packages (from opencv-contrib-python==4.4.0.46) (1.19.5)\n",
            "Installing collected packages: opencv-contrib-python\n",
            "  Attempting uninstall: opencv-contrib-python\n",
            "    Found existing installation: opencv-contrib-python 4.1.2.30\n",
            "    Uninstalling opencv-contrib-python-4.1.2.30:\n",
            "      Successfully uninstalled opencv-contrib-python-4.1.2.30\n",
            "Successfully installed opencv-contrib-python-4.4.0.46\n"
          ]
        }
      ],
      "source": [
        "#installing contrib-opencv\n",
        "!pip install opencv-contrib-python==4.4.0.46"
      ]
    },
    {
      "cell_type": "code",
      "execution_count": 20,
      "metadata": {
        "colab": {
          "base_uri": "https://localhost:8080/"
        },
        "id": "0r_XOHjEJOFi",
        "outputId": "1cec5ed5-2725-4386-a818-19db1f4b0aeb"
      },
      "outputs": [
        {
          "name": "stdout",
          "output_type": "stream",
          "text": [
            "Requirement already satisfied: redis-server in /usr/local/lib/python3.7/dist-packages (6.0.9)\n",
            "Requirement already satisfied: redis in /usr/local/lib/python3.7/dist-packages (4.1.2)\n",
            "Requirement already satisfied: deprecated>=1.2.3 in /usr/local/lib/python3.7/dist-packages (from redis) (1.2.13)\n",
            "Requirement already satisfied: packaging>=20.4 in /usr/local/lib/python3.7/dist-packages (from redis) (21.3)\n",
            "Requirement already satisfied: importlib-metadata>=1.0 in /usr/local/lib/python3.7/dist-packages (from redis) (4.10.1)\n",
            "Requirement already satisfied: wrapt<2,>=1.10 in /usr/local/lib/python3.7/dist-packages (from deprecated>=1.2.3->redis) (1.13.3)\n",
            "Requirement already satisfied: zipp>=0.5 in /usr/local/lib/python3.7/dist-packages (from importlib-metadata>=1.0->redis) (3.7.0)\n",
            "Requirement already satisfied: typing-extensions>=3.6.4 in /usr/local/lib/python3.7/dist-packages (from importlib-metadata>=1.0->redis) (3.10.0.2)\n",
            "Requirement already satisfied: pyparsing!=3.0.5,>=2.0.2 in /usr/local/lib/python3.7/dist-packages (from packaging>=20.4->redis) (3.0.7)\n"
          ]
        }
      ],
      "source": [
        "#installing redis-server, redis\n",
        "!pip install redis-server redis"
      ]
    },
    {
      "cell_type": "code",
      "execution_count": 16,
      "metadata": {
        "colab": {
          "base_uri": "https://localhost:8080/",
          "height": 1000
        },
        "id": "-4hf74zHIrwd",
        "outputId": "8101df4e-53c8-4974-9168-21b2fac4e340"
      },
      "outputs": [
        {
          "name": "stdout",
          "output_type": "stream",
          "text": [
            "\u001b[K     |████████████████████████████████| 9.7 MB 5.4 MB/s \n",
            "\u001b[K     |████████████████████████████████| 76 kB 4.4 MB/s \n",
            "\u001b[K     |████████████████████████████████| 4.3 MB 35.3 MB/s \n",
            "\u001b[K     |████████████████████████████████| 164 kB 50.8 MB/s \n",
            "\u001b[K     |████████████████████████████████| 180 kB 48.9 MB/s \n",
            "\u001b[K     |████████████████████████████████| 111 kB 47.1 MB/s \n",
            "\u001b[K     |████████████████████████████████| 63 kB 1.4 MB/s \n",
            "\u001b[K     |████████████████████████████████| 128 kB 46.6 MB/s \n",
            "\u001b[K     |████████████████████████████████| 792 kB 42.9 MB/s \n",
            "\u001b[K     |████████████████████████████████| 375 kB 49.3 MB/s \n",
            "\u001b[?25h  Building wheel for blinker (setup.py) ... \u001b[?25l\u001b[?25hdone\n",
            "\u001b[31mERROR: pip's dependency resolver does not currently take into account all the packages that are installed. This behaviour is the source of the following dependency conflicts.\n",
            "jupyter-console 5.2.0 requires prompt-toolkit<2.0.0,>=1.0.0, but you have prompt-toolkit 3.0.26 which is incompatible.\n",
            "google-colab 1.0.0 requires ipykernel~=4.10, but you have ipykernel 6.8.0 which is incompatible.\n",
            "google-colab 1.0.0 requires ipython~=5.5.0, but you have ipython 7.31.1 which is incompatible.\u001b[0m\n",
            "Collecting streamlit-cropper\n",
            "  Downloading streamlit_cropper-0.2.0-py3-none-any.whl (949 kB)\n",
            "\u001b[K     |████████████████████████████████| 949 kB 5.5 MB/s \n",
            "\u001b[?25hCollecting Pillow>=8.4.0\n",
            "  Downloading Pillow-9.0.1-cp37-cp37m-manylinux_2_17_x86_64.manylinux2014_x86_64.whl (4.3 MB)\n",
            "\u001b[K     |████████████████████████████████| 4.3 MB 38.0 MB/s \n",
            "\u001b[?25hCollecting numpy>=1.21.5\n",
            "  Downloading numpy-1.21.5-cp37-cp37m-manylinux_2_12_x86_64.manylinux2010_x86_64.whl (15.7 MB)\n",
            "\u001b[K     |████████████████████████████████| 15.7 MB 150 kB/s \n",
            "\u001b[?25hRequirement already satisfied: streamlit>=1.3.1 in /usr/local/lib/python3.7/dist-packages (from streamlit-cropper) (1.5.0)\n",
            "Requirement already satisfied: toml in /usr/local/lib/python3.7/dist-packages (from streamlit>=1.3.1->streamlit-cropper) (0.10.2)\n",
            "Requirement already satisfied: typing-extensions in /usr/local/lib/python3.7/dist-packages (from streamlit>=1.3.1->streamlit-cropper) (3.10.0.2)\n",
            "Requirement already satisfied: gitpython!=3.1.19 in /usr/local/lib/python3.7/dist-packages (from streamlit>=1.3.1->streamlit-cropper) (3.1.26)\n",
            "Requirement already satisfied: watchdog in /usr/local/lib/python3.7/dist-packages (from streamlit>=1.3.1->streamlit-cropper) (2.1.6)\n",
            "Requirement already satisfied: blinker in /usr/local/lib/python3.7/dist-packages (from streamlit>=1.3.1->streamlit-cropper) (1.4)\n",
            "Requirement already satisfied: cachetools>=4.0 in /usr/local/lib/python3.7/dist-packages (from streamlit>=1.3.1->streamlit-cropper) (4.2.4)\n",
            "Requirement already satisfied: pympler>=0.9 in /usr/local/lib/python3.7/dist-packages (from streamlit>=1.3.1->streamlit-cropper) (1.0.1)\n",
            "Requirement already satisfied: python-dateutil in /usr/local/lib/python3.7/dist-packages (from streamlit>=1.3.1->streamlit-cropper) (2.8.2)\n",
            "Requirement already satisfied: attrs in /usr/local/lib/python3.7/dist-packages (from streamlit>=1.3.1->streamlit-cropper) (21.4.0)\n",
            "Requirement already satisfied: astor in /usr/local/lib/python3.7/dist-packages (from streamlit>=1.3.1->streamlit-cropper) (0.8.1)\n",
            "Requirement already satisfied: tzlocal in /usr/local/lib/python3.7/dist-packages (from streamlit>=1.3.1->streamlit-cropper) (1.5.1)\n",
            "Requirement already satisfied: click>=7.0 in /usr/local/lib/python3.7/dist-packages (from streamlit>=1.3.1->streamlit-cropper) (7.1.2)\n",
            "Requirement already satisfied: validators in /usr/local/lib/python3.7/dist-packages (from streamlit>=1.3.1->streamlit-cropper) (0.18.2)\n",
            "Requirement already satisfied: packaging in /usr/local/lib/python3.7/dist-packages (from streamlit>=1.3.1->streamlit-cropper) (21.3)\n",
            "Requirement already satisfied: protobuf!=3.11,>=3.6.0 in /usr/local/lib/python3.7/dist-packages (from streamlit>=1.3.1->streamlit-cropper) (3.17.3)\n",
            "Requirement already satisfied: altair>=3.2.0 in /usr/local/lib/python3.7/dist-packages (from streamlit>=1.3.1->streamlit-cropper) (4.2.0)\n",
            "Requirement already satisfied: pandas>=0.21.0 in /usr/local/lib/python3.7/dist-packages (from streamlit>=1.3.1->streamlit-cropper) (1.3.5)\n",
            "Requirement already satisfied: base58 in /usr/local/lib/python3.7/dist-packages (from streamlit>=1.3.1->streamlit-cropper) (2.1.1)\n",
            "Requirement already satisfied: pyarrow in /usr/local/lib/python3.7/dist-packages (from streamlit>=1.3.1->streamlit-cropper) (3.0.0)\n",
            "Requirement already satisfied: requests in /usr/local/lib/python3.7/dist-packages (from streamlit>=1.3.1->streamlit-cropper) (2.23.0)\n",
            "Requirement already satisfied: tornado>=5.0 in /usr/local/lib/python3.7/dist-packages (from streamlit>=1.3.1->streamlit-cropper) (5.1.1)\n",
            "Requirement already satisfied: pydeck>=0.1.dev5 in /usr/local/lib/python3.7/dist-packages (from streamlit>=1.3.1->streamlit-cropper) (0.7.1)\n",
            "Requirement already satisfied: jinja2 in /usr/local/lib/python3.7/dist-packages (from altair>=3.2.0->streamlit>=1.3.1->streamlit-cropper) (2.11.3)\n",
            "Requirement already satisfied: toolz in /usr/local/lib/python3.7/dist-packages (from altair>=3.2.0->streamlit>=1.3.1->streamlit-cropper) (0.11.2)\n",
            "Requirement already satisfied: entrypoints in /usr/local/lib/python3.7/dist-packages (from altair>=3.2.0->streamlit>=1.3.1->streamlit-cropper) (0.3)\n",
            "Requirement already satisfied: jsonschema>=3.0 in /usr/local/lib/python3.7/dist-packages (from altair>=3.2.0->streamlit>=1.3.1->streamlit-cropper) (4.3.3)\n",
            "Requirement already satisfied: gitdb<5,>=4.0.1 in /usr/local/lib/python3.7/dist-packages (from gitpython!=3.1.19->streamlit>=1.3.1->streamlit-cropper) (4.0.9)\n",
            "Requirement already satisfied: smmap<6,>=3.0.1 in /usr/local/lib/python3.7/dist-packages (from gitdb<5,>=4.0.1->gitpython!=3.1.19->streamlit>=1.3.1->streamlit-cropper) (5.0.0)\n",
            "Requirement already satisfied: pyrsistent!=0.17.0,!=0.17.1,!=0.17.2,>=0.14.0 in /usr/local/lib/python3.7/dist-packages (from jsonschema>=3.0->altair>=3.2.0->streamlit>=1.3.1->streamlit-cropper) (0.18.1)\n",
            "Requirement already satisfied: importlib-resources>=1.4.0 in /usr/local/lib/python3.7/dist-packages (from jsonschema>=3.0->altair>=3.2.0->streamlit>=1.3.1->streamlit-cropper) (5.4.0)\n",
            "Requirement already satisfied: importlib-metadata in /usr/local/lib/python3.7/dist-packages (from jsonschema>=3.0->altair>=3.2.0->streamlit>=1.3.1->streamlit-cropper) (4.10.1)\n",
            "Requirement already satisfied: zipp>=3.1.0 in /usr/local/lib/python3.7/dist-packages (from importlib-resources>=1.4.0->jsonschema>=3.0->altair>=3.2.0->streamlit>=1.3.1->streamlit-cropper) (3.7.0)\n",
            "Requirement already satisfied: pytz>=2017.3 in /usr/local/lib/python3.7/dist-packages (from pandas>=0.21.0->streamlit>=1.3.1->streamlit-cropper) (2018.9)\n",
            "Requirement already satisfied: six>=1.9 in /usr/local/lib/python3.7/dist-packages (from protobuf!=3.11,>=3.6.0->streamlit>=1.3.1->streamlit-cropper) (1.15.0)\n",
            "Requirement already satisfied: ipykernel>=5.1.2 in /usr/local/lib/python3.7/dist-packages (from pydeck>=0.1.dev5->streamlit>=1.3.1->streamlit-cropper) (6.8.0)\n",
            "Requirement already satisfied: traitlets>=4.3.2 in /usr/local/lib/python3.7/dist-packages (from pydeck>=0.1.dev5->streamlit>=1.3.1->streamlit-cropper) (5.1.1)\n",
            "Requirement already satisfied: ipywidgets>=7.0.0 in /usr/local/lib/python3.7/dist-packages (from pydeck>=0.1.dev5->streamlit>=1.3.1->streamlit-cropper) (7.6.5)\n",
            "Requirement already satisfied: matplotlib-inline<0.2.0,>=0.1.0 in /usr/local/lib/python3.7/dist-packages (from ipykernel>=5.1.2->pydeck>=0.1.dev5->streamlit>=1.3.1->streamlit-cropper) (0.1.3)\n",
            "Requirement already satisfied: jupyter-client<8.0 in /usr/local/lib/python3.7/dist-packages (from ipykernel>=5.1.2->pydeck>=0.1.dev5->streamlit>=1.3.1->streamlit-cropper) (5.3.5)\n",
            "Requirement already satisfied: ipython>=7.23.1 in /usr/local/lib/python3.7/dist-packages (from ipykernel>=5.1.2->pydeck>=0.1.dev5->streamlit>=1.3.1->streamlit-cropper) (7.31.1)\n",
            "Requirement already satisfied: debugpy<2.0,>=1.0.0 in /usr/local/lib/python3.7/dist-packages (from ipykernel>=5.1.2->pydeck>=0.1.dev5->streamlit>=1.3.1->streamlit-cropper) (1.0.0)\n",
            "Requirement already satisfied: nest-asyncio in /usr/local/lib/python3.7/dist-packages (from ipykernel>=5.1.2->pydeck>=0.1.dev5->streamlit>=1.3.1->streamlit-cropper) (1.5.4)\n",
            "Requirement already satisfied: setuptools>=18.5 in /usr/local/lib/python3.7/dist-packages (from ipython>=7.23.1->ipykernel>=5.1.2->pydeck>=0.1.dev5->streamlit>=1.3.1->streamlit-cropper) (57.4.0)\n",
            "Requirement already satisfied: pickleshare in /usr/local/lib/python3.7/dist-packages (from ipython>=7.23.1->ipykernel>=5.1.2->pydeck>=0.1.dev5->streamlit>=1.3.1->streamlit-cropper) (0.7.5)\n",
            "Requirement already satisfied: pygments in /usr/local/lib/python3.7/dist-packages (from ipython>=7.23.1->ipykernel>=5.1.2->pydeck>=0.1.dev5->streamlit>=1.3.1->streamlit-cropper) (2.6.1)\n",
            "Requirement already satisfied: pexpect>4.3 in /usr/local/lib/python3.7/dist-packages (from ipython>=7.23.1->ipykernel>=5.1.2->pydeck>=0.1.dev5->streamlit>=1.3.1->streamlit-cropper) (4.8.0)\n",
            "Requirement already satisfied: backcall in /usr/local/lib/python3.7/dist-packages (from ipython>=7.23.1->ipykernel>=5.1.2->pydeck>=0.1.dev5->streamlit>=1.3.1->streamlit-cropper) (0.2.0)\n",
            "Requirement already satisfied: jedi>=0.16 in /usr/local/lib/python3.7/dist-packages (from ipython>=7.23.1->ipykernel>=5.1.2->pydeck>=0.1.dev5->streamlit>=1.3.1->streamlit-cropper) (0.18.1)\n",
            "Requirement already satisfied: decorator in /usr/local/lib/python3.7/dist-packages (from ipython>=7.23.1->ipykernel>=5.1.2->pydeck>=0.1.dev5->streamlit>=1.3.1->streamlit-cropper) (4.4.2)\n",
            "Requirement already satisfied: prompt-toolkit!=3.0.0,!=3.0.1,<3.1.0,>=2.0.0 in /usr/local/lib/python3.7/dist-packages (from ipython>=7.23.1->ipykernel>=5.1.2->pydeck>=0.1.dev5->streamlit>=1.3.1->streamlit-cropper) (3.0.26)\n",
            "Requirement already satisfied: ipython-genutils~=0.2.0 in /usr/local/lib/python3.7/dist-packages (from ipywidgets>=7.0.0->pydeck>=0.1.dev5->streamlit>=1.3.1->streamlit-cropper) (0.2.0)\n",
            "Requirement already satisfied: nbformat>=4.2.0 in /usr/local/lib/python3.7/dist-packages (from ipywidgets>=7.0.0->pydeck>=0.1.dev5->streamlit>=1.3.1->streamlit-cropper) (5.1.3)\n",
            "Requirement already satisfied: widgetsnbextension~=3.5.0 in /usr/local/lib/python3.7/dist-packages (from ipywidgets>=7.0.0->pydeck>=0.1.dev5->streamlit>=1.3.1->streamlit-cropper) (3.5.2)\n",
            "Requirement already satisfied: jupyterlab-widgets>=1.0.0 in /usr/local/lib/python3.7/dist-packages (from ipywidgets>=7.0.0->pydeck>=0.1.dev5->streamlit>=1.3.1->streamlit-cropper) (1.0.2)\n",
            "Requirement already satisfied: parso<0.9.0,>=0.8.0 in /usr/local/lib/python3.7/dist-packages (from jedi>=0.16->ipython>=7.23.1->ipykernel>=5.1.2->pydeck>=0.1.dev5->streamlit>=1.3.1->streamlit-cropper) (0.8.3)\n",
            "Requirement already satisfied: MarkupSafe>=0.23 in /usr/local/lib/python3.7/dist-packages (from jinja2->altair>=3.2.0->streamlit>=1.3.1->streamlit-cropper) (2.0.1)\n",
            "Requirement already satisfied: pyzmq>=13 in /usr/local/lib/python3.7/dist-packages (from jupyter-client<8.0->ipykernel>=5.1.2->pydeck>=0.1.dev5->streamlit>=1.3.1->streamlit-cropper) (22.3.0)\n",
            "Requirement already satisfied: jupyter-core>=4.6.0 in /usr/local/lib/python3.7/dist-packages (from jupyter-client<8.0->ipykernel>=5.1.2->pydeck>=0.1.dev5->streamlit>=1.3.1->streamlit-cropper) (4.9.1)\n",
            "Requirement already satisfied: ptyprocess>=0.5 in /usr/local/lib/python3.7/dist-packages (from pexpect>4.3->ipython>=7.23.1->ipykernel>=5.1.2->pydeck>=0.1.dev5->streamlit>=1.3.1->streamlit-cropper) (0.7.0)\n",
            "Requirement already satisfied: wcwidth in /usr/local/lib/python3.7/dist-packages (from prompt-toolkit!=3.0.0,!=3.0.1,<3.1.0,>=2.0.0->ipython>=7.23.1->ipykernel>=5.1.2->pydeck>=0.1.dev5->streamlit>=1.3.1->streamlit-cropper) (0.2.5)\n",
            "Requirement already satisfied: notebook>=4.4.1 in /usr/local/lib/python3.7/dist-packages (from widgetsnbextension~=3.5.0->ipywidgets>=7.0.0->pydeck>=0.1.dev5->streamlit>=1.3.1->streamlit-cropper) (5.3.1)\n",
            "Requirement already satisfied: nbconvert in /usr/local/lib/python3.7/dist-packages (from notebook>=4.4.1->widgetsnbextension~=3.5.0->ipywidgets>=7.0.0->pydeck>=0.1.dev5->streamlit>=1.3.1->streamlit-cropper) (5.6.1)\n",
            "Requirement already satisfied: Send2Trash in /usr/local/lib/python3.7/dist-packages (from notebook>=4.4.1->widgetsnbextension~=3.5.0->ipywidgets>=7.0.0->pydeck>=0.1.dev5->streamlit>=1.3.1->streamlit-cropper) (1.8.0)\n",
            "Requirement already satisfied: terminado>=0.8.1 in /usr/local/lib/python3.7/dist-packages (from notebook>=4.4.1->widgetsnbextension~=3.5.0->ipywidgets>=7.0.0->pydeck>=0.1.dev5->streamlit>=1.3.1->streamlit-cropper) (0.13.1)\n",
            "Requirement already satisfied: defusedxml in /usr/local/lib/python3.7/dist-packages (from nbconvert->notebook>=4.4.1->widgetsnbextension~=3.5.0->ipywidgets>=7.0.0->pydeck>=0.1.dev5->streamlit>=1.3.1->streamlit-cropper) (0.7.1)\n",
            "Requirement already satisfied: bleach in /usr/local/lib/python3.7/dist-packages (from nbconvert->notebook>=4.4.1->widgetsnbextension~=3.5.0->ipywidgets>=7.0.0->pydeck>=0.1.dev5->streamlit>=1.3.1->streamlit-cropper) (4.1.0)\n",
            "Requirement already satisfied: mistune<2,>=0.8.1 in /usr/local/lib/python3.7/dist-packages (from nbconvert->notebook>=4.4.1->widgetsnbextension~=3.5.0->ipywidgets>=7.0.0->pydeck>=0.1.dev5->streamlit>=1.3.1->streamlit-cropper) (0.8.4)\n",
            "Requirement already satisfied: pandocfilters>=1.4.1 in /usr/local/lib/python3.7/dist-packages (from nbconvert->notebook>=4.4.1->widgetsnbextension~=3.5.0->ipywidgets>=7.0.0->pydeck>=0.1.dev5->streamlit>=1.3.1->streamlit-cropper) (1.5.0)\n",
            "Requirement already satisfied: testpath in /usr/local/lib/python3.7/dist-packages (from nbconvert->notebook>=4.4.1->widgetsnbextension~=3.5.0->ipywidgets>=7.0.0->pydeck>=0.1.dev5->streamlit>=1.3.1->streamlit-cropper) (0.5.0)\n",
            "Requirement already satisfied: webencodings in /usr/local/lib/python3.7/dist-packages (from bleach->nbconvert->notebook>=4.4.1->widgetsnbextension~=3.5.0->ipywidgets>=7.0.0->pydeck>=0.1.dev5->streamlit>=1.3.1->streamlit-cropper) (0.5.1)\n",
            "Requirement already satisfied: pyparsing!=3.0.5,>=2.0.2 in /usr/local/lib/python3.7/dist-packages (from packaging->streamlit>=1.3.1->streamlit-cropper) (3.0.7)\n",
            "Requirement already satisfied: chardet<4,>=3.0.2 in /usr/local/lib/python3.7/dist-packages (from requests->streamlit>=1.3.1->streamlit-cropper) (3.0.4)\n",
            "Requirement already satisfied: certifi>=2017.4.17 in /usr/local/lib/python3.7/dist-packages (from requests->streamlit>=1.3.1->streamlit-cropper) (2021.10.8)\n",
            "Requirement already satisfied: urllib3!=1.25.0,!=1.25.1,<1.26,>=1.21.1 in /usr/local/lib/python3.7/dist-packages (from requests->streamlit>=1.3.1->streamlit-cropper) (1.24.3)\n",
            "Requirement already satisfied: idna<3,>=2.5 in /usr/local/lib/python3.7/dist-packages (from requests->streamlit>=1.3.1->streamlit-cropper) (2.10)\n",
            "Installing collected packages: numpy, Pillow, streamlit-cropper\n",
            "  Attempting uninstall: numpy\n",
            "    Found existing installation: numpy 1.19.5\n",
            "    Uninstalling numpy-1.19.5:\n",
            "      Successfully uninstalled numpy-1.19.5\n",
            "  Attempting uninstall: Pillow\n",
            "    Found existing installation: Pillow 7.1.2\n",
            "    Uninstalling Pillow-7.1.2:\n",
            "      Successfully uninstalled Pillow-7.1.2\n",
            "\u001b[31mERROR: pip's dependency resolver does not currently take into account all the packages that are installed. This behaviour is the source of the following dependency conflicts.\n",
            "yellowbrick 1.3.post1 requires numpy<1.20,>=1.16.0, but you have numpy 1.21.5 which is incompatible.\n",
            "google-colab 1.0.0 requires ipykernel~=4.10, but you have ipykernel 6.8.0 which is incompatible.\n",
            "google-colab 1.0.0 requires ipython~=5.5.0, but you have ipython 7.31.1 which is incompatible.\n",
            "datascience 0.10.6 requires folium==0.2.1, but you have folium 0.8.3 which is incompatible.\n",
            "albumentations 0.1.12 requires imgaug<0.2.7,>=0.2.5, but you have imgaug 0.2.9 which is incompatible.\u001b[0m\n",
            "Successfully installed Pillow-9.0.1 numpy-1.21.5 streamlit-cropper-0.2.0\n"
          ]
        },
        {
          "data": {
            "application/vnd.colab-display-data+json": {
              "pip_warning": {
                "packages": [
                  "PIL",
                  "numpy"
                ]
              }
            }
          },
          "metadata": {},
          "output_type": "display_data"
        }
      ],
      "source": [
        "#installing streamlit, streamlit-cropper\n",
        "!pip install streamlit -q\n",
        "!pip install streamlit-cropper"
      ]
    },
    {
      "cell_type": "markdown",
      "metadata": {
        "id": "zQPGPTM6Umgl"
      },
      "source": [
        "##**Running redis server and writing app.py**"
      ]
    },
    {
      "cell_type": "code",
      "execution_count": 17,
      "metadata": {
        "colab": {
          "base_uri": "https://localhost:8080/"
        },
        "id": "PG1EL1jzQQBc",
        "outputId": "c31576fb-16a9-433f-8225-9cf00bfd1c0b"
      },
      "outputs": [
        {
          "data": {
            "text/plain": [
              "32512"
            ]
          },
          "execution_count": 17,
          "metadata": {},
          "output_type": "execute_result"
        }
      ],
      "source": [
        "#Warning: run this cell everytime before starting the server\n",
        "\n",
        "import os\n",
        "import subprocess\n",
        "import redis_server\n",
        "\n",
        "subprocess.Popen([redis_server.REDIS_SERVER_PATH])\n",
        "\n",
        "bovw_path = '/output/bovw.hdf5'\n",
        "os.system('!python build_redis_index.py --bovw_db '+ bovw_path)"
      ]
    },
    {
      "cell_type": "code",
      "execution_count": 18,
      "metadata": {
        "colab": {
          "base_uri": "https://localhost:8080/"
        },
        "id": "-v8Mq661UoLX",
        "outputId": "3f8e798b-4b1b-4665-ac5e-f494966a5fb4"
      },
      "outputs": [
        {
          "name": "stdout",
          "output_type": "stream",
          "text": [
            "Writing app.py\n"
          ]
        }
      ],
      "source": [
        "#writing the app.py\n",
        "%%writefile app.py\n",
        "from ntpath import join\n",
        "import streamlit as st\n",
        "from streamlit_cropper import st_cropper\n",
        "from PIL import Image\n",
        "import os \n",
        "\n",
        "bovw_path = 'output/bovw.hdf5'\n",
        "features_path = 'output/features.hdf5'\n",
        "dataset_path = 'paris'\n",
        "vocab_path = 'output/vocab.cpickle'\n",
        "idf_path = 'output/idf.cpickle'\n",
        "\n",
        "st.set_page_config(\n",
        "     page_title=\"CIBR Demo by Streamlit\",\n",
        ")\n",
        "st.set_option('deprecation.showfileUploaderEncoding', False)\n",
        "\n",
        "\n",
        "st.title('Streamlit Image Query')\n",
        "# Upload an image and set some options for demo purposes\n",
        "st.header(\"Content Based Image Retrieval Demo\")\n",
        "\n",
        "st.subheader(\"Click on sidebar, upload a file and query\")\n",
        "\n",
        "st.info('<====== Sidebar is on the left')\n",
        "\n",
        "img_file = st.sidebar.file_uploader(label='Upload a file', type=['png', 'jpg', 'jpeg'])\n",
        "realtime_update = st.sidebar.checkbox(label=\"Update in Real Time\", value=True)\n",
        "box_color = st.sidebar.color_picker(label=\"Box Color\", value='#0000FF')\n",
        "aspect_choice = st.sidebar.radio(label=\"Aspect Ratio\", options=[\"1:1\", \"16:9\", \"4:3\", \"2:3\", \"Free\"])\n",
        "aspect_dict = {\n",
        "    \"1:1\": (1, 1),\n",
        "    \"16:9\": (16, 9),\n",
        "    \"4:3\": (4, 3),\n",
        "    \"2:3\": (2, 3),\n",
        "    \"Free\": None\n",
        "}\n",
        "aspect_ratio = aspect_dict[aspect_choice]\n",
        "\n",
        "if img_file:\n",
        "    img = Image.open(img_file)\n",
        "    if not realtime_update:\n",
        "        st.write(\"Double click to save crop\")\n",
        "    # Get a cropped image from the frontend\n",
        "    cropped_img = st_cropper(img, realtime_update=realtime_update, box_color=box_color,\n",
        "                                aspect_ratio=aspect_ratio)\n",
        "    \n",
        "    # Manipulate cropped image at will\n",
        "    st.write(\"Preview\")\n",
        "    _ = cropped_img.thumbnail((500,500))\n",
        "    st.image(cropped_img)\n",
        "\n",
        "    if st.button('Crop and Query'):\n",
        "        cropped_img.save(\"test.png\")\n",
        "\n",
        "        chosen2_path = 'test.png'\n",
        "        st.write('Starting query...')   \n",
        "\n",
        "        import time\n",
        "        start_time = time.time()\n",
        "        os.system('python search.py --dataset '+dataset_path+' --features_db '+features_path +' --bovw_db '+ bovw_path +' --codebook ' +vocab_path +' --idf '+ idf_path + '  --query '+ chosen2_path)\n",
        "        st.write('Done !')\n",
        "        time_string = str(time.time() - start_time)\n",
        "        st.write('Searching time:  '  + time_string[:6] +'s')\n",
        "\n",
        "        import pandas as pd \n",
        "\n",
        "        results = pd.read_csv('./results.csv')\n",
        "        full_dataset_path = './paris'\n",
        "        #st.dataframe(results)\n",
        "        for i, (name,score) in enumerate(zip(results['Path'], results['Cosine_Score'])):\n",
        "          col1 , col2 = st.columns([2,2])\n",
        "          dir = name[8:-12]\n",
        "          path = os.path.join(full_dataset_path,dir, name[2:-1])\n",
        "          #st.write(path)\n",
        "          img = Image.open(path)\n",
        "          \n",
        "          col1.image(img, width = 300)\n",
        "          col2.write(\"Rank \"+ str(i+1))\n",
        "          col2.write(score)\n",
        "          col2.write(name[2:-1])\n",
        "    "
      ]
    },
    {
      "cell_type": "code",
      "execution_count": 19,
      "metadata": {
        "colab": {
          "base_uri": "https://localhost:8080/"
        },
        "id": "s_VOubFC8svh",
        "outputId": "b8734bc2-43b0-4511-cc31-26f5a395b93b"
      },
      "outputs": [
        {
          "name": "stdout",
          "output_type": "stream",
          "text": [
            "2022-02-03 14:05:27.246 INFO    numexpr.utils: NumExpr defaulting to 2 threads.\n",
            "\u001b[K\u001b[?25hnpx: installed 22 in 4.29s\n",
            "your url is: https://splendid-fireant-66.loca.lt\n",
            "\u001b[0m\n",
            "\u001b[34m\u001b[1m  You can now view your Streamlit app in your browser.\u001b[0m\n",
            "\u001b[0m\n",
            "\u001b[34m  Network URL: \u001b[0m\u001b[1mhttp://172.28.0.2:8501\u001b[0m\n",
            "\u001b[34m  External URL: \u001b[0m\u001b[1mhttp://34.67.2.238:8501\u001b[0m\n",
            "\u001b[0m\n",
            "\u001b[34m  Stopping...\u001b[0m\n",
            "^C\n"
          ]
        }
      ],
      "source": [
        "#Start the app then using localtunnel for accessing\n",
        "!streamlit run app.py & npx localtunnel --port 8501"
      ]
    },
    {
      "cell_type": "code",
      "execution_count": null,
      "metadata": {
        "id": "lyVFVOOQQQRA"
      },
      "outputs": [],
      "source": [
        "#not running in colab\n",
        "!streamlit run app.py "
      ]
    }
  ],
  "metadata": {
    "accelerator": "GPU",
    "colab": {
      "collapsed_sections": [],
      "name": "CS336_E2E_Notebook.ipynb",
      "provenance": []
    },
    "kernelspec": {
      "display_name": "Python 3",
      "name": "python3"
    },
    "language_info": {
      "name": "python"
    }
  },
  "nbformat": 4,
  "nbformat_minor": 0
}
